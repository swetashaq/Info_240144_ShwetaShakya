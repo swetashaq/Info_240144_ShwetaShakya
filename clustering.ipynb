{
 "cells": [
  {
   "cell_type": "code",
   "execution_count": 1,
   "metadata": {},
   "outputs": [
    {
     "name": "stdout",
     "output_type": "stream",
     "text": [
      "Requirement already satisfied: pandas in c:\\users\\asus\\appdata\\local\\packages\\pythonsoftwarefoundation.python.3.10_qbz5n2kfra8p0\\localcache\\local-packages\\python310\\site-packages (2.2.0)\n",
      "Requirement already satisfied: nltk in c:\\users\\asus\\appdata\\local\\packages\\pythonsoftwarefoundation.python.3.10_qbz5n2kfra8p0\\localcache\\local-packages\\python310\\site-packages (3.8.1)\n",
      "Requirement already satisfied: scikit-learn in c:\\users\\asus\\appdata\\local\\packages\\pythonsoftwarefoundation.python.3.10_qbz5n2kfra8p0\\localcache\\local-packages\\python310\\site-packages (1.4.0)\n",
      "Requirement already satisfied: numpy<2,>=1.22.4 in c:\\users\\asus\\appdata\\local\\packages\\pythonsoftwarefoundation.python.3.10_qbz5n2kfra8p0\\localcache\\local-packages\\python310\\site-packages (from pandas) (1.26.3)\n",
      "Requirement already satisfied: python-dateutil>=2.8.2 in c:\\users\\asus\\appdata\\local\\packages\\pythonsoftwarefoundation.python.3.10_qbz5n2kfra8p0\\localcache\\local-packages\\python310\\site-packages (from pandas) (2.8.2)\n",
      "Requirement already satisfied: pytz>=2020.1 in c:\\users\\asus\\appdata\\local\\packages\\pythonsoftwarefoundation.python.3.10_qbz5n2kfra8p0\\localcache\\local-packages\\python310\\site-packages (from pandas) (2023.4)\n",
      "Requirement already satisfied: tzdata>=2022.7 in c:\\users\\asus\\appdata\\local\\packages\\pythonsoftwarefoundation.python.3.10_qbz5n2kfra8p0\\localcache\\local-packages\\python310\\site-packages (from pandas) (2023.4)\n",
      "Requirement already satisfied: click in c:\\users\\asus\\appdata\\local\\packages\\pythonsoftwarefoundation.python.3.10_qbz5n2kfra8p0\\localcache\\local-packages\\python310\\site-packages (from nltk) (8.1.7)\n",
      "Requirement already satisfied: joblib in c:\\users\\asus\\appdata\\local\\packages\\pythonsoftwarefoundation.python.3.10_qbz5n2kfra8p0\\localcache\\local-packages\\python310\\site-packages (from nltk) (1.3.2)\n",
      "Requirement already satisfied: regex>=2021.8.3 in c:\\users\\asus\\appdata\\local\\packages\\pythonsoftwarefoundation.python.3.10_qbz5n2kfra8p0\\localcache\\local-packages\\python310\\site-packages (from nltk) (2024.5.15)\n",
      "Requirement already satisfied: tqdm in c:\\users\\asus\\appdata\\local\\packages\\pythonsoftwarefoundation.python.3.10_qbz5n2kfra8p0\\localcache\\local-packages\\python310\\site-packages (from nltk) (4.66.4)\n",
      "Requirement already satisfied: scipy>=1.6.0 in c:\\users\\asus\\appdata\\local\\packages\\pythonsoftwarefoundation.python.3.10_qbz5n2kfra8p0\\localcache\\local-packages\\python310\\site-packages (from scikit-learn) (1.12.0)\n",
      "Requirement already satisfied: threadpoolctl>=2.0.0 in c:\\users\\asus\\appdata\\local\\packages\\pythonsoftwarefoundation.python.3.10_qbz5n2kfra8p0\\localcache\\local-packages\\python310\\site-packages (from scikit-learn) (3.2.0)\n",
      "Requirement already satisfied: six>=1.5 in c:\\users\\asus\\appdata\\local\\packages\\pythonsoftwarefoundation.python.3.10_qbz5n2kfra8p0\\localcache\\local-packages\\python310\\site-packages (from python-dateutil>=2.8.2->pandas) (1.16.0)\n",
      "Requirement already satisfied: colorama in c:\\users\\asus\\appdata\\local\\packages\\pythonsoftwarefoundation.python.3.10_qbz5n2kfra8p0\\localcache\\local-packages\\python310\\site-packages (from click->nltk) (0.4.6)\n"
     ]
    },
    {
     "name": "stderr",
     "output_type": "stream",
     "text": [
      "\n",
      "[notice] A new release of pip is available: 24.0 -> 24.2\n",
      "[notice] To update, run: C:\\Users\\Asus\\AppData\\Local\\Microsoft\\WindowsApps\\PythonSoftwareFoundation.Python.3.10_qbz5n2kfra8p0\\python.exe -m pip install --upgrade pip\n"
     ]
    }
   ],
   "source": [
    "!pip install pandas nltk scikit-learn "
   ]
  },
  {
   "cell_type": "code",
   "execution_count": 38,
   "metadata": {},
   "outputs": [],
   "source": [
    "import pandas as pd\n",
    "import re\n",
    "import nltk\n",
    "from nltk.corpus import stopwords\n",
    "from nltk.stem import WordNetLemmatizer\n",
    "from sklearn.feature_extraction.text import TfidfVectorizer\n",
    "from sklearn.cluster import KMeans\n",
    "import tkinter as tk\n",
    "from tkinter import scrolledtext"
   ]
  },
  {
   "cell_type": "code",
   "execution_count": 5,
   "metadata": {},
   "outputs": [
    {
     "name": "stderr",
     "output_type": "stream",
     "text": [
      "[nltk_data] Downloading package stopwords to\n",
      "[nltk_data]     C:\\Users\\Asus\\AppData\\Roaming\\nltk_data...\n",
      "[nltk_data]   Package stopwords is already up-to-date!\n",
      "[nltk_data] Downloading package wordnet to\n",
      "[nltk_data]     C:\\Users\\Asus\\AppData\\Roaming\\nltk_data...\n"
     ]
    },
    {
     "data": {
      "text/plain": [
       "True"
      ]
     },
     "execution_count": 5,
     "metadata": {},
     "output_type": "execute_result"
    }
   ],
   "source": [
    "nltk.download('stopwords')\n",
    "nltk.download('wordnet')"
   ]
  },
  {
   "cell_type": "code",
   "execution_count": 8,
   "metadata": {},
   "outputs": [
    {
     "name": "stdout",
     "output_type": "stream",
     "text": [
      "Requirement already satisfied: pandas in c:\\users\\asus\\appdata\\local\\packages\\pythonsoftwarefoundation.python.3.10_qbz5n2kfra8p0\\localcache\\local-packages\\python310\\site-packages (2.2.0)\n",
      "Collecting openpyxl\n",
      "  Downloading openpyxl-3.1.5-py2.py3-none-any.whl.metadata (2.5 kB)\n",
      "Requirement already satisfied: numpy<2,>=1.22.4 in c:\\users\\asus\\appdata\\local\\packages\\pythonsoftwarefoundation.python.3.10_qbz5n2kfra8p0\\localcache\\local-packages\\python310\\site-packages (from pandas) (1.26.3)\n",
      "Requirement already satisfied: python-dateutil>=2.8.2 in c:\\users\\asus\\appdata\\local\\packages\\pythonsoftwarefoundation.python.3.10_qbz5n2kfra8p0\\localcache\\local-packages\\python310\\site-packages (from pandas) (2.8.2)\n",
      "Requirement already satisfied: pytz>=2020.1 in c:\\users\\asus\\appdata\\local\\packages\\pythonsoftwarefoundation.python.3.10_qbz5n2kfra8p0\\localcache\\local-packages\\python310\\site-packages (from pandas) (2023.4)\n",
      "Requirement already satisfied: tzdata>=2022.7 in c:\\users\\asus\\appdata\\local\\packages\\pythonsoftwarefoundation.python.3.10_qbz5n2kfra8p0\\localcache\\local-packages\\python310\\site-packages (from pandas) (2023.4)\n",
      "Collecting et-xmlfile (from openpyxl)\n",
      "  Downloading et_xmlfile-1.1.0-py3-none-any.whl.metadata (1.8 kB)\n",
      "Requirement already satisfied: six>=1.5 in c:\\users\\asus\\appdata\\local\\packages\\pythonsoftwarefoundation.python.3.10_qbz5n2kfra8p0\\localcache\\local-packages\\python310\\site-packages (from python-dateutil>=2.8.2->pandas) (1.16.0)\n",
      "Downloading openpyxl-3.1.5-py2.py3-none-any.whl (250 kB)\n",
      "   ---------------------------------------- 0.0/250.9 kB ? eta -:--:--\n",
      "   ---- ----------------------------------- 30.7/250.9 kB 1.4 MB/s eta 0:00:01\n",
      "   --------- ------------------------------ 61.4/250.9 kB 1.1 MB/s eta 0:00:01\n",
      "   ------------------- -------------------- 122.9/250.9 kB 1.0 MB/s eta 0:00:01\n",
      "   ------------------------------- -------- 194.6/250.9 kB 1.2 MB/s eta 0:00:01\n",
      "   ----------------------------------- ---- 225.3/250.9 kB 1.1 MB/s eta 0:00:01\n",
      "   ---------------------------------------- 250.9/250.9 kB 1.0 MB/s eta 0:00:00\n",
      "Downloading et_xmlfile-1.1.0-py3-none-any.whl (4.7 kB)\n",
      "Installing collected packages: et-xmlfile, openpyxl\n",
      "Successfully installed et-xmlfile-1.1.0 openpyxl-3.1.5\n"
     ]
    },
    {
     "name": "stderr",
     "output_type": "stream",
     "text": [
      "\n",
      "[notice] A new release of pip is available: 24.0 -> 24.2\n",
      "[notice] To update, run: C:\\Users\\Asus\\AppData\\Local\\Microsoft\\WindowsApps\\PythonSoftwareFoundation.Python.3.10_qbz5n2kfra8p0\\python.exe -m pip install --upgrade pip\n"
     ]
    }
   ],
   "source": [
    "!pip install pandas openpyxl"
   ]
  },
  {
   "cell_type": "code",
   "execution_count": 9,
   "metadata": {},
   "outputs": [
    {
     "name": "stdout",
     "output_type": "stream",
     "text": [
      "   Entertainment  \\\n",
      "0  Entertainment   \n",
      "1  Entertainment   \n",
      "2  Entertainment   \n",
      "3  Entertainment   \n",
      "4  Entertainment   \n",
      "\n",
      "  Actors from the world of gaming went on strike last week, in a row about the use of artificial intelligence (AI) and the threat it poses to their livelihoods. It has reignited the debate about how the entertainment industry is adapting to new technology.  \n",
      "0  The Dua Lipa festival aiming to change Kosovo’...                                                                                                                                                                                                              \n",
      "1  A French DJ who performed during the Paris Oly...                                                                                                                                                                                                              \n",
      "2  The Boyfriend: An ultra-wholesome Japanese dat...                                                                                                                                                                                                              \n",
      "3  The key message that made Inside Out 2 bigger ...                                                                                                                                                                                                              \n",
      "4  Marvel’s Deadpool & Wolverine has had an impre...                                                                                                                                                                                                              \n"
     ]
    }
   ],
   "source": [
    "excel_file_path = 'eepdata.xlsx'  # Path to your Excel file\n",
    "df = pd.read_excel(excel_file_path)\n",
    "\n",
    "# Display the DataFrame to verify the content\n",
    "print(df.head())\n",
    "\n",
    "# Save the DataFrame to a CSV file\n",
    "csv_file_path = 'eepdata1.csv'  # Path where the CSV file will be saved\n",
    "df.to_csv(csv_file_path, index=False)\n",
    "\n"
   ]
  },
  {
   "cell_type": "code",
   "execution_count": 10,
   "metadata": {},
   "outputs": [
    {
     "name": "stdout",
     "output_type": "stream",
     "text": [
      "   Entertainment  \\\n",
      "0  Entertainment   \n",
      "1  Entertainment   \n",
      "2  Entertainment   \n",
      "3  Entertainment   \n",
      "4  Entertainment   \n",
      "\n",
      "  Actors from the world of gaming went on strike last week, in a row about the use of artificial intelligence (AI) and the threat it poses to their livelihoods. It has reignited the debate about how the entertainment industry is adapting to new technology.  \n",
      "0  The Dua Lipa festival aiming to change Kosovo’...                                                                                                                                                                                                              \n",
      "1  A French DJ who performed during the Paris Oly...                                                                                                                                                                                                              \n",
      "2  The Boyfriend: An ultra-wholesome Japanese dat...                                                                                                                                                                                                              \n",
      "3  The key message that made Inside Out 2 bigger ...                                                                                                                                                                                                              \n",
      "4  Marvel’s Deadpool & Wolverine has had an impre...                                                                                                                                                                                                              \n"
     ]
    }
   ],
   "source": [
    "print (df.head())"
   ]
  },
  {
   "cell_type": "code",
   "execution_count": 19,
   "metadata": {},
   "outputs": [],
   "source": [
    "file_path = 'eepdata.xlsx'  # Change to your file path\n",
    "df = pd.read_excel(file_path)\n",
    "\n",
    "# Create a DataFrame for the header row\n",
    "header_df = pd.DataFrame([['Category', 'Content']], columns=df.columns)\n",
    "\n",
    "# Concatenate header_df with the existing DataFrame\n",
    "df_with_header = pd.concat([header_df, df], ignore_index=True)\n",
    "\n",
    "# Save the updated DataFrame to a new Excel file\n",
    "output_file_path = 'eepdata2.xlsx'  # Change to your desired output path\n",
    "df_with_header.to_excel(output_file_path, index=False)\n"
   ]
  },
  {
   "cell_type": "code",
   "execution_count": 29,
   "metadata": {},
   "outputs": [
    {
     "name": "stdout",
     "output_type": "stream",
     "text": [
      "   Entertainment  \\\n",
      "0       Category   \n",
      "1  Entertainment   \n",
      "2  Entertainment   \n",
      "3  Entertainment   \n",
      "4  Entertainment   \n",
      "\n",
      "  Actors from the world of gaming went on strike last week, in a row about the use of artificial intelligence (AI) and the threat it poses to their livelihoods. It has reignited the debate about how the entertainment industry is adapting to new technology.  \n",
      "0                                            Content                                                                                                                                                                                                              \n",
      "1  The Dua Lipa festival aiming to change Kosovo’...                                                                                                                                                                                                              \n",
      "2  A French DJ who performed during the Paris Oly...                                                                                                                                                                                                              \n",
      "3  The Boyfriend: An ultra-wholesome Japanese dat...                                                                                                                                                                                                              \n",
      "4  The key message that made Inside Out 2 bigger ...                                                                                                                                                                                                              \n"
     ]
    }
   ],
   "source": [
    "excel_file_path = 'eepdata2.xlsx'  # Path to your Excel file\n",
    "df = pd.read_excel(excel_file_path)\n",
    "\n",
    "# Display the DataFrame to verify the content\n",
    "print(df.head())\n",
    "\n",
    "# Save the DataFrame to a CSV file\n",
    "csv_file_path = 'eepdata2.csv'  # Path where the CSV file will be saved\n",
    "df.to_csv(csv_file_path, index=False)\n"
   ]
  },
  {
   "cell_type": "code",
   "execution_count": 35,
   "metadata": {},
   "outputs": [
    {
     "name": "stdout",
     "output_type": "stream",
     "text": [
      "        Category                                            Content\n",
      "0  Entertainment  The Dua Lipa festival aiming to change Kosovo’...\n",
      "1  Entertainment  A French DJ who performed during the Paris Oly...\n",
      "2  Entertainment  The Boyfriend: An ultra-wholesome Japanese dat...\n",
      "3  Entertainment  The key message that made Inside Out 2 bigger ...\n",
      "4  Entertainment  Marvel’s Deadpool & Wolverine has had an impre...\n"
     ]
    }
   ],
   "source": [
    "import pandas as pd\n",
    "\n",
    "# Load the DataFrame, specifying the correct header row\n",
    "df = pd.read_csv('eepdata2.csv', header=1)  # Assuming the actual header is the second row (index 1)\n",
    "\n",
    "# Check the loaded DataFrame\n",
    "print(df.head())"
   ]
  },
  {
   "cell_type": "code",
   "execution_count": 36,
   "metadata": {},
   "outputs": [
    {
     "name": "stdout",
     "output_type": "stream",
     "text": [
      "        Category                                            Content\n",
      "0  Entertainment  A French DJ who performed during the Paris Oly...\n",
      "1  Entertainment  The Boyfriend: An ultra-wholesome Japanese dat...\n",
      "2  Entertainment  The key message that made Inside Out 2 bigger ...\n",
      "3  Entertainment  Marvel’s Deadpool & Wolverine has had an impre...\n",
      "4  Entertainment  Glastonbury 2024: The reason Coldplay are the ...\n"
     ]
    }
   ],
   "source": [
    "df = df.drop(index=0)\n",
    "\n",
    "# Reset the index to clean it up\n",
    "df.reset_index(drop=True, inplace=True)\n",
    "\n",
    "# Check the cleaned DataFrame\n",
    "print(df.head())"
   ]
  },
  {
   "cell_type": "code",
   "execution_count": 37,
   "metadata": {},
   "outputs": [],
   "source": [
    "from nltk.tokenize import word_tokenize\n",
    "def preprocess(text):\n",
    "    # Tokenize and convert to lower case\n",
    "    tokens = word_tokenize(text.lower())\n",
    "    # Remove punctuation and stopwords\n",
    "    tokens = [word for word in tokens if word.isalnum()]\n",
    "    tokens = [word for word in tokens if word not in stopwords.words('english')]\n",
    "    # Lemmatize tokens\n",
    "    lemmatizer = WordNetLemmatizer()\n",
    "    tokens = [lemmatizer.lemmatize(word) for word in tokens]\n",
    "    return ' '.join(tokens)\n",
    "\n",
    "# Apply preprocessing\n",
    "df['processed_content'] = df['Content'].apply(preprocess)"
   ]
  },
  {
   "cell_type": "code",
   "execution_count": 39,
   "metadata": {},
   "outputs": [],
   "source": [
    "vectorizer = TfidfVectorizer()\n",
    "X = vectorizer.fit_transform(df['processed_content'])"
   ]
  },
  {
   "cell_type": "code",
   "execution_count": 40,
   "metadata": {},
   "outputs": [],
   "source": [
    "num_clusters = 3\n",
    "kmeans = KMeans(n_clusters=num_clusters, random_state=42)\n",
    "df['cluster'] = kmeans.fit_predict(X)\n",
    "\n",
    "# Define category labels\n",
    "category_labels = ['Economics', 'Entertainment', 'Politics']\n",
    "df['predicted_category'] = df['cluster'].map({0: 'Economics', 1: 'Entertainment', 2: 'Politics'})\n",
    "def classify_new_document(new_content):\n",
    "    processed_content = preprocess(new_content)\n",
    "    new_vector = vectorizer.transform([processed_content])\n",
    "    cluster = kmeans.predict(new_vector)\n",
    "    return category_labels[cluster[0]]"
   ]
  },
  {
   "cell_type": "code",
   "execution_count": 55,
   "metadata": {},
   "outputs": [],
   "source": [
    "# GUI Application\n",
    "def on_classify():\n",
    "    new_doc = text_input.get(\"1.0\", tk.END).strip()\n",
    "    if new_doc:\n",
    "        predicted_category = classify_new_document(new_doc)\n",
    "        result_var.set(f'The new document belongs to category: {predicted_category}')\n",
    "    else:\n",
    "        result_var.set('Please enter a document to classify.')\n",
    "\n",
    "# Create the main window\n",
    "root = tk.Tk()\n",
    "root.title(\"Document Clustering\")\n",
    "\n",
    "# Create and place widgets\n",
    "tk.Label(root, text=\"Enter Document Content:\").pack(pady=10)\n",
    "text_input = scrolledtext.ScrolledText(root, width=60, height=15)\n",
    "text_input.pack(pady=10)\n",
    "\n",
    "tk.Button(root, text=\"Classify Document\", command=on_classify).pack(pady=10)\n",
    "\n",
    "result_var = tk.StringVar()\n",
    "tk.Label(root, textvariable=result_var).pack(pady=10)\n",
    "\n",
    "# Start the GUI event loop\n",
    "root.mainloop()"
   ]
  }
 ],
 "metadata": {
  "kernelspec": {
   "display_name": "Python 3",
   "language": "python",
   "name": "python3"
  },
  "language_info": {
   "codemirror_mode": {
    "name": "ipython",
    "version": 3
   },
   "file_extension": ".py",
   "mimetype": "text/x-python",
   "name": "python",
   "nbconvert_exporter": "python",
   "pygments_lexer": "ipython3",
   "version": "3.10.11"
  }
 },
 "nbformat": 4,
 "nbformat_minor": 2
}
